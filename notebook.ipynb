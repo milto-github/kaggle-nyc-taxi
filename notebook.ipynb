{
 "cells": [
  {
   "cell_type": "code",
   "execution_count": null,
   "metadata": {},
   "outputs": [],
   "source": [
    "import pandas as pd\n",
    "import feather\n",
    "\n",
    "#######################################################\n",
    "###################### READ CSV #######################\n",
    "\n",
    "df = pd.read_csv('./all/train.csv', parse_dates=['pickup_datetime'])\n",
    "\n",
    "#######################################################\n",
    "##################WRITE FEATHER #######################\n",
    "\n",
    "df.to_feather('./all/train.feather')\n",
    "\n",
    "#######################################################\n",
    "##################### READ FEATHER ####################\n",
    "\n",
    "#df = pd.read_feather('./all/train.feather')\n",
    "\n",
    "#######################################################\n",
    "############## WRITE PREPROCESSED FEATHER #############\n",
    "\n",
    "#df.to_feather('./all/preprocessed_train.feather')\n",
    "\n",
    "#######################################################\n",
    "######### READ PREPROCESSED FEATHER ###################\n",
    "\n",
    "#df = pd.read_feather('./all/preprocessed_train.feather')"
   ]
  },
  {
   "cell_type": "raw",
   "metadata": {},
   "source": [
    "# CHECK FOR INVALID COORDINATES (outside of NYC range)\n",
    "# determined with https://www.mapdevelopers.com/geocode_bounding_box.php\n",
    "\n",
    "def valid_coordinates(lat_list, lon_list):\n",
    "    for i in lat_list:\n",
    "        if i < 40.477399 or i > 40.917577:\n",
    "            return False\n",
    "    for i in lon_list:\n",
    "        if i < -74.259090 or i > -73.700272:\n",
    "            return False\n",
    "    return True\n",
    "\n",
    "def clean_coordinates(df):\n",
    "    df.query('~(pickup_latitude < 40.477399 or pickup_latitude > 40.917577) &\\\n",
    "              ~(dropoff_latitude < 40.477399 or dropoff_latitude > 40.917577) &\\\n",
    "              ~(pickup_longitude < -74.259090 or pickup_longitude > -73.700272) &\\\n",
    "              ~(dropoff_longitude < -74.259090 or dropoff_longitude > -73.700272)', inplace=True)"
   ]
  },
  {
   "cell_type": "raw",
   "metadata": {},
   "source": [
    "# REMOVE INVALID PASSENGER COUNTS AND FARES, DROPNA, UNNEEDED KEYS\n",
    "\n",
    "def clean_pfdk(df):\n",
    "    df.drop(columns=['key'], inplace=True)\n",
    "    df.dropna(inplace=True)\n",
    "    df.query('passenger_count > 0 & passenger_count < 15 & fare_amount > 0 & fare_amount < 200 ', inplace=True)"
   ]
  },
  {
   "cell_type": "raw",
   "metadata": {},
   "source": [
    "# CALCULATE EUCLIDEAN DISTANCE\n",
    "\n",
    "from scipy.spatial import distance\n",
    "\n",
    "def euclidean_distance(x1, y1, x2, y2):\n",
    "    return ((x1-x2)**2 + (y2-y1)**2)**0.5\n",
    "\n",
    "def add_euclidean_distance(df):\n",
    "    df['euclidean_distance'] = euclidean_distance(df['pickup_latitude'], df['pickup_longitude'], \n",
    "                                                  df['dropoff_latitude'], df['dropoff_longitude'])"
   ]
  },
  {
   "cell_type": "raw",
   "metadata": {},
   "source": [
    "# EXTRACT TIME VALUES\n",
    "\n",
    "def add_times(df):\n",
    "    df['month'] = pd.to_datetime(df['pickup_datetime']).dt.day\n",
    "    df['day']   = pd.to_datetime(df['pickup_datetime']).dt.day\n",
    "    df['hour']  = df['pickup_datetime'].dt.hour + (df['pickup_datetime'].dt.minute/60)"
   ]
  },
  {
   "cell_type": "raw",
   "metadata": {},
   "source": [
    "# PREPROCESS PIPELINE\n",
    "\n",
    "def preprocess(df, training=True):\n",
    "    if training:\n",
    "        clean_pfdk(df)\n",
    "        clean_coordinates(df)\n",
    "        df.reset_index(drop=True, inplace=True)\n",
    "    add_euclidean_distance(df)\n",
    "    add_times(df)"
   ]
  },
  {
   "cell_type": "raw",
   "metadata": {},
   "source": [
    "# PREPROCESS TRAINING DATA\n",
    "\n",
    "preprocess(df, training=True)"
   ]
  },
  {
   "cell_type": "raw",
   "metadata": {},
   "source": [
    "import seaborn as sns\n",
    "import matplotlib.pyplot as plt\n",
    "%matplotlib inline"
   ]
  },
  {
   "cell_type": "raw",
   "metadata": {},
   "source": [
    "# SCATTER PLOT\n",
    "# (EUCLIDEAN DISTANCE, FARE AMOUNT)\n",
    "\n",
    "corr = df['euclidean_distance'].corr(df['fare_amount'])\n",
    "plt.figure(figsize=(10,10))\n",
    "plt.scatter(df['euclidean_distance'], df['fare_amount'], alpha=0.25)\n",
    "plt.title('CORRELATION(EUCLIDEAN DISTANCE, FARE AMOUNT)\\n = {0}'.format(corr), fontsize = 20)\n",
    "plt.xlabel('Euclidean Distance', fontsize=18)\n",
    "plt.ylabel('Fare Amount', fontsize=18)\n",
    "plt.show()"
   ]
  },
  {
   "cell_type": "raw",
   "metadata": {},
   "source": [
    "# SCATTER PLOT\n",
    "# (TIME OF DAY, DISTANCE TRAVELED)\n",
    "\n",
    "corr = df['hour'].corr(df['euclidean_distance'])\n",
    "plt.figure(figsize=(10,10))\n",
    "plt.scatter(df['hour'], df['euclidean_distance'], alpha=0.25)\n",
    "plt.title('CORRELATION(TIME OF DAY, DISTANCE TRAVELED)\\n = {0}'.format(corr), fontsize = 20)\n",
    "plt.xlabel('Time of day', fontsize=18)\n",
    "plt.ylabel('Euclidean distance', fontsize=18)\n",
    "plt.xlim(0,24)\n",
    "plt.xticks(range(0,25))\n",
    "plt.grid(True)\n",
    "plt.show()"
   ]
  },
  {
   "cell_type": "raw",
   "metadata": {},
   "source": [
    "# SCATTER PLOT\n",
    "# (TIME OF DAY, FARE AMOUNT)\n",
    "\n",
    "corr = df['hour'].corr(df['fare_amount'])\n",
    "plt.figure(figsize=(10,10))\n",
    "plt.scatter(df['hour'], df['fare_amount'], alpha=0.25)\n",
    "plt.title('CORRELATION(TIME OF DAY, FARE AMOUNT)\\n = {0}'.format(corr), fontsize = 20)\n",
    "plt.xlabel('Time of day', fontsize=18)\n",
    "plt.ylabel('Fare Amount', fontsize=18)\n",
    "plt.xlim(0,24)\n",
    "plt.xticks(range(0,25))\n",
    "plt.grid(True)\n",
    "plt.show()"
   ]
  },
  {
   "cell_type": "raw",
   "metadata": {},
   "source": [
    "# CORRELATION MATRIX\n",
    "\n",
    "corr_matrix = df.corr()\n",
    "corr_matrix"
   ]
  },
  {
   "cell_type": "raw",
   "metadata": {},
   "source": [
    "# CORRELATION HEATMAP\n",
    "\n",
    "plt.figure(figsize=(12,12))\n",
    "sns.heatmap(corr_matrix, cmap='BuGn', annot=True, vmin=-1, vmax=1)\n",
    "plt.show()"
   ]
  },
  {
   "cell_type": "raw",
   "metadata": {},
   "source": [
    "# PLOT FARES BY DESTINATION\n",
    "\n",
    "plt.figure(figsize=(10,10))\n",
    "plt.scatter(df['dropoff_longitude'], df['dropoff_latitude'], c=df['fare_amount'], cmap=plt.get_cmap(\"jet\"), alpha=0.25)\n",
    "colorbar = plt.colorbar()\n",
    "colorbar.ax.set_ylabel('Fare Amount', fontsize=20)\n",
    "plt.title('Fares by Destination'.format(corr), fontsize = 20)\n",
    "plt.xlabel('Longitude', fontsize=18)\n",
    "plt.ylabel('Latitude', fontsize=18)\n",
    "plt.show()"
   ]
  },
  {
   "cell_type": "raw",
   "metadata": {},
   "source": [
    "# SPLIT TRAIN/TEST DATA\n",
    "from sklearn.model_selection import train_test_split\n",
    "\n",
    "def get_tt_split(size):\n",
    "    X = df.head(size)[['pickup_longitude', 'pickup_latitude', 'dropoff_longitude', 'dropoff_latitude', 'month', 'day', 'hour', 'euclidean_distance', 'passenger_count']]\n",
    "    y = df.head(size)['fare_amount']\n",
    "    return train_test_split(X, y, test_size=0.2, random_state=3)"
   ]
  },
  {
   "cell_type": "raw",
   "metadata": {},
   "source": [
    "# Scale after split to avoid using test data information during training\n",
    "from sklearn.preprocessing import StandardScaler\n",
    "\n",
    "X_train = StandardScaler().fit_transform(X_train)\n",
    "X_test  = StandardScaler().fit_transform(X_test)"
   ]
  },
  {
   "cell_type": "raw",
   "metadata": {},
   "source": [
    "# FIT THE MODEL AND SCORE (LINEAR REGRESSION)\n",
    "\n",
    "from sklearn.linear_model import LinearRegression\n",
    "\n",
    "model = LinearRegression()\n",
    "\n",
    "X_train, X_test, y_train, y_test = get_tt_split(len(df))\n",
    "model.fit(X_train, y_train)\n",
    "\n",
    "print('Score (R^2):', model.score(X_test, y_test))"
   ]
  },
  {
   "cell_type": "raw",
   "metadata": {},
   "source": [
    "# GET COEFFICIENTS AND INTERCEPT FROM LR MODEL\n",
    "print('\\nCOEFFICIENTS:')\n",
    "for i in list(zip(X.columns, model.coef_)):\n",
    "    print('{0}: {1}'.format(i[0], i[1]))\n",
    "print('\\nINTERCEPT:\\n', model.intercept_)"
   ]
  },
  {
   "cell_type": "raw",
   "metadata": {},
   "source": [
    "# NEURAL NETWORK\n",
    "\n",
    "import tensorflow as tf\n",
    "import numpy as np\n",
    "from tensorflow import keras\n",
    "from tensorflow.train import RMSPropOptimizer\n",
    "from tensorflow.nn import relu\n",
    "from tensorflow.keras.layers import Dense\n",
    "\n",
    "X_train, X_test, y_train, y_test = get_tt_split(1000)\n",
    "\n",
    "model = keras.Sequential([\n",
    "    Dense(32, activation=relu, input_shape=(X_train.shape[1],)),\n",
    "    Dense(32, activation=relu),\n",
    "    Dense(1)])\n",
    "\n",
    "optimizer = RMSPropOptimizer(0.001)\n",
    "model.compile(loss='mse', metrics=['mse'], optimizer=optimizer)\n",
    "model.fit(X_train, y_train, epochs=200, validation_split=0.2, verbose=2)\n",
    "\n",
    "test_predictions = model.predict(X_test)\n",
    "\n",
    "total_error       = tf.reduce_sum(tf.square(tf.subtract(y_test, tf.reduce_mean(y_test))))\n",
    "unexplained_error = tf.reduce_sum(tf.square(tf.subtract(y_test, test_predictions)))\n",
    "R_squared         = tf.subtract(tf.cast(1, tf.float64), tf.divide(total_error, unexplained_error))\n",
    "\n",
    "sess = tf.Session()\n",
    "print('R^2:', sess.run(R_squared))"
   ]
  },
  {
   "cell_type": "raw",
   "metadata": {},
   "source": [
    "# PREPROCESS ACTUAL DATA\n",
    "\n",
    "real_df = pd.read_csv('./all/test.csv', parse_dates=['pickup_datetime'])\n",
    "preprocess(real_df, training=False)"
   ]
  },
  {
   "cell_type": "raw",
   "metadata": {
    "scrolled": true
   },
   "source": [
    "# FIT MODEL TO ACTUAL DATA\n",
    "\n",
    "selected_model = 'lr'\n",
    "\n",
    "real_X = real_df[['pickup_longitude', 'pickup_latitude', 'dropoff_longitude', 'dropoff_latitude', 'month', 'day', 'hour', 'euclidean_distance', 'passenger_count']]\n",
    "\n",
    "predictions = model.predict(real_X)\n",
    "\n",
    "if selected_model = 'nn':\n",
    "    predictions = [i[0] for i in predictions]\n",
    "\n",
    "data = list(zip(real_df['key'], predictions))\n",
    "\n",
    "submission = pd.DataFrame(data, columns=['key', 'fare_amount'])\n",
    "submission.set_index('key', inplace=True)\n",
    "submission.to_csv('submission.csv')"
   ]
  }
 ],
 "metadata": {
  "kernelspec": {
   "display_name": "Python 3",
   "language": "python",
   "name": "python3"
  },
  "language_info": {
   "codemirror_mode": {
    "name": "ipython",
    "version": 3
   },
   "file_extension": ".py",
   "mimetype": "text/x-python",
   "name": "python",
   "nbconvert_exporter": "python",
   "pygments_lexer": "ipython3",
   "version": "3.6.5"
  }
 },
 "nbformat": 4,
 "nbformat_minor": 2
}
