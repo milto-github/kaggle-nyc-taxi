{
 "cells": [
  {
   "cell_type": "code",
   "execution_count": 46,
   "metadata": {},
   "outputs": [
    {
     "name": "stdout",
     "output_type": "stream",
     "text": [
      "Min before cleaning: -44.9\n",
      "Min after cleaning: 0.0\n"
     ]
    },
    {
     "data": {
      "text/html": [
       "<div>\n",
       "<style scoped>\n",
       "    .dataframe tbody tr th:only-of-type {\n",
       "        vertical-align: middle;\n",
       "    }\n",
       "\n",
       "    .dataframe tbody tr th {\n",
       "        vertical-align: top;\n",
       "    }\n",
       "\n",
       "    .dataframe thead th {\n",
       "        text-align: right;\n",
       "    }\n",
       "</style>\n",
       "<table border=\"1\" class=\"dataframe\">\n",
       "  <thead>\n",
       "    <tr style=\"text-align: right;\">\n",
       "      <th></th>\n",
       "      <th>key</th>\n",
       "      <th>fare_amount</th>\n",
       "      <th>pickup_datetime</th>\n",
       "      <th>pickup_longitude</th>\n",
       "      <th>pickup_latitude</th>\n",
       "      <th>dropoff_longitude</th>\n",
       "      <th>dropoff_latitude</th>\n",
       "      <th>passenger_count</th>\n",
       "    </tr>\n",
       "  </thead>\n",
       "  <tbody>\n",
       "    <tr>\n",
       "      <th>10002</th>\n",
       "      <td>2010-02-15 14:26:01.0000003</td>\n",
       "      <td>0.0</td>\n",
       "      <td>2010-02-15 14:26:01 UTC</td>\n",
       "      <td>-73.987115</td>\n",
       "      <td>40.738808</td>\n",
       "      <td>-74.005911</td>\n",
       "      <td>40.713960</td>\n",
       "      <td>1</td>\n",
       "    </tr>\n",
       "    <tr>\n",
       "      <th>27891</th>\n",
       "      <td>2015-05-15 21:40:28.00000010</td>\n",
       "      <td>0.0</td>\n",
       "      <td>2015-05-15 21:40:28 UTC</td>\n",
       "      <td>-74.077927</td>\n",
       "      <td>40.805714</td>\n",
       "      <td>-74.077919</td>\n",
       "      <td>40.805721</td>\n",
       "      <td>1</td>\n",
       "    </tr>\n",
       "    <tr>\n",
       "      <th>47302</th>\n",
       "      <td>2010-03-18 19:13:39.0000002</td>\n",
       "      <td>0.0</td>\n",
       "      <td>2010-03-18 19:13:39 UTC</td>\n",
       "      <td>-73.942346</td>\n",
       "      <td>40.806269</td>\n",
       "      <td>-73.942463</td>\n",
       "      <td>40.806129</td>\n",
       "      <td>1</td>\n",
       "    </tr>\n",
       "  </tbody>\n",
       "</table>\n",
       "</div>"
      ],
      "text/plain": [
       "                                key  fare_amount          pickup_datetime  \\\n",
       "10002   2010-02-15 14:26:01.0000003          0.0  2010-02-15 14:26:01 UTC   \n",
       "27891  2015-05-15 21:40:28.00000010          0.0  2015-05-15 21:40:28 UTC   \n",
       "47302   2010-03-18 19:13:39.0000002          0.0  2010-03-18 19:13:39 UTC   \n",
       "\n",
       "       pickup_longitude  pickup_latitude  dropoff_longitude  dropoff_latitude  \\\n",
       "10002        -73.987115        40.738808         -74.005911         40.713960   \n",
       "27891        -74.077927        40.805714         -74.077919         40.805721   \n",
       "47302        -73.942346        40.806269         -73.942463         40.806129   \n",
       "\n",
       "       passenger_count  \n",
       "10002                1  \n",
       "27891                1  \n",
       "47302                1  "
      ]
     },
     "execution_count": 46,
     "metadata": {},
     "output_type": "execute_result"
    }
   ],
   "source": [
    "import pandas as pd\n",
    "\n",
    "df = pd.read_csv('./all/train.csv', nrows=100000)\n",
    "mean_fare = df['fare_amount'].mean()\n",
    "min = df['fare_amount'].min()\n",
    "print('Min before cleaning:', min)\n",
    "df['fare_amount'] = df['fare_amount'].apply(lambda x: mean_fare if x < 0 else x)\n",
    "min = df['fare_amount'].min()\n",
    "print('Min after cleaning:', min)\n",
    "\n",
    "df[df['fare_amount']==0.0]"
   ]
  },
  {
   "cell_type": "code",
   "execution_count": 23,
   "metadata": {},
   "outputs": [
    {
     "data": {
      "text/html": [
       "<div>\n",
       "<style scoped>\n",
       "    .dataframe tbody tr th:only-of-type {\n",
       "        vertical-align: middle;\n",
       "    }\n",
       "\n",
       "    .dataframe tbody tr th {\n",
       "        vertical-align: top;\n",
       "    }\n",
       "\n",
       "    .dataframe thead th {\n",
       "        text-align: right;\n",
       "    }\n",
       "</style>\n",
       "<table border=\"1\" class=\"dataframe\">\n",
       "  <thead>\n",
       "    <tr style=\"text-align: right;\">\n",
       "      <th></th>\n",
       "      <th>fare_amount</th>\n",
       "      <th>pickup_longitude</th>\n",
       "      <th>pickup_latitude</th>\n",
       "      <th>dropoff_longitude</th>\n",
       "      <th>dropoff_latitude</th>\n",
       "      <th>passenger_count</th>\n",
       "    </tr>\n",
       "  </thead>\n",
       "  <tbody>\n",
       "    <tr>\n",
       "      <th>count</th>\n",
       "      <td>100000.000000</td>\n",
       "      <td>100000.000000</td>\n",
       "      <td>100000.000000</td>\n",
       "      <td>100000.000000</td>\n",
       "      <td>100000.000000</td>\n",
       "      <td>100000.000000</td>\n",
       "    </tr>\n",
       "    <tr>\n",
       "      <th>mean</th>\n",
       "      <td>11.354652</td>\n",
       "      <td>-72.494682</td>\n",
       "      <td>39.914481</td>\n",
       "      <td>-72.490967</td>\n",
       "      <td>39.919053</td>\n",
       "      <td>1.673820</td>\n",
       "    </tr>\n",
       "    <tr>\n",
       "      <th>std</th>\n",
       "      <td>9.716777</td>\n",
       "      <td>10.693934</td>\n",
       "      <td>6.225686</td>\n",
       "      <td>10.471386</td>\n",
       "      <td>6.213427</td>\n",
       "      <td>1.300171</td>\n",
       "    </tr>\n",
       "    <tr>\n",
       "      <th>min</th>\n",
       "      <td>-44.900000</td>\n",
       "      <td>-736.550000</td>\n",
       "      <td>-74.007670</td>\n",
       "      <td>-84.654241</td>\n",
       "      <td>-74.006377</td>\n",
       "      <td>0.000000</td>\n",
       "    </tr>\n",
       "    <tr>\n",
       "      <th>25%</th>\n",
       "      <td>6.000000</td>\n",
       "      <td>-73.992041</td>\n",
       "      <td>40.734996</td>\n",
       "      <td>-73.991215</td>\n",
       "      <td>40.734182</td>\n",
       "      <td>1.000000</td>\n",
       "    </tr>\n",
       "    <tr>\n",
       "      <th>50%</th>\n",
       "      <td>8.500000</td>\n",
       "      <td>-73.981789</td>\n",
       "      <td>40.752765</td>\n",
       "      <td>-73.980000</td>\n",
       "      <td>40.753243</td>\n",
       "      <td>1.000000</td>\n",
       "    </tr>\n",
       "    <tr>\n",
       "      <th>75%</th>\n",
       "      <td>12.500000</td>\n",
       "      <td>-73.966982</td>\n",
       "      <td>40.767258</td>\n",
       "      <td>-73.963433</td>\n",
       "      <td>40.768166</td>\n",
       "      <td>2.000000</td>\n",
       "    </tr>\n",
       "    <tr>\n",
       "      <th>max</th>\n",
       "      <td>200.000000</td>\n",
       "      <td>40.787575</td>\n",
       "      <td>401.083332</td>\n",
       "      <td>40.851027</td>\n",
       "      <td>404.616667</td>\n",
       "      <td>6.000000</td>\n",
       "    </tr>\n",
       "  </tbody>\n",
       "</table>\n",
       "</div>"
      ],
      "text/plain": [
       "         fare_amount  pickup_longitude  pickup_latitude  dropoff_longitude  \\\n",
       "count  100000.000000     100000.000000    100000.000000      100000.000000   \n",
       "mean       11.354652        -72.494682        39.914481         -72.490967   \n",
       "std         9.716777         10.693934         6.225686          10.471386   \n",
       "min       -44.900000       -736.550000       -74.007670         -84.654241   \n",
       "25%         6.000000        -73.992041        40.734996         -73.991215   \n",
       "50%         8.500000        -73.981789        40.752765         -73.980000   \n",
       "75%        12.500000        -73.966982        40.767258         -73.963433   \n",
       "max       200.000000         40.787575       401.083332          40.851027   \n",
       "\n",
       "       dropoff_latitude  passenger_count  \n",
       "count     100000.000000    100000.000000  \n",
       "mean          39.919053         1.673820  \n",
       "std            6.213427         1.300171  \n",
       "min          -74.006377         0.000000  \n",
       "25%           40.734182         1.000000  \n",
       "50%           40.753243         1.000000  \n",
       "75%           40.768166         2.000000  \n",
       "max          404.616667         6.000000  "
      ]
     },
     "execution_count": 23,
     "metadata": {},
     "output_type": "execute_result"
    }
   ],
   "source": [
    "df.describe()"
   ]
  },
  {
   "cell_type": "code",
   "execution_count": 25,
   "metadata": {},
   "outputs": [
    {
     "data": {
      "text/html": [
       "<div>\n",
       "<style scoped>\n",
       "    .dataframe tbody tr th:only-of-type {\n",
       "        vertical-align: middle;\n",
       "    }\n",
       "\n",
       "    .dataframe tbody tr th {\n",
       "        vertical-align: top;\n",
       "    }\n",
       "\n",
       "    .dataframe thead th {\n",
       "        text-align: right;\n",
       "    }\n",
       "</style>\n",
       "<table border=\"1\" class=\"dataframe\">\n",
       "  <thead>\n",
       "    <tr style=\"text-align: right;\">\n",
       "      <th></th>\n",
       "      <th>fare_amount</th>\n",
       "      <th>pickup_longitude</th>\n",
       "      <th>pickup_latitude</th>\n",
       "      <th>dropoff_longitude</th>\n",
       "      <th>dropoff_latitude</th>\n",
       "      <th>passenger_count</th>\n",
       "    </tr>\n",
       "  </thead>\n",
       "  <tbody>\n",
       "    <tr>\n",
       "      <th>fare_amount</th>\n",
       "      <td>1.000000</td>\n",
       "      <td>0.008975</td>\n",
       "      <td>-0.008952</td>\n",
       "      <td>0.006322</td>\n",
       "      <td>-0.005587</td>\n",
       "      <td>0.015804</td>\n",
       "    </tr>\n",
       "    <tr>\n",
       "      <th>pickup_longitude</th>\n",
       "      <td>0.008975</td>\n",
       "      <td>1.000000</td>\n",
       "      <td>-0.946674</td>\n",
       "      <td>0.937559</td>\n",
       "      <td>-0.911016</td>\n",
       "      <td>-0.001342</td>\n",
       "    </tr>\n",
       "    <tr>\n",
       "      <th>pickup_latitude</th>\n",
       "      <td>-0.008952</td>\n",
       "      <td>-0.946674</td>\n",
       "      <td>1.000000</td>\n",
       "      <td>-0.926534</td>\n",
       "      <td>0.930183</td>\n",
       "      <td>-0.000920</td>\n",
       "    </tr>\n",
       "    <tr>\n",
       "      <th>dropoff_longitude</th>\n",
       "      <td>0.006322</td>\n",
       "      <td>0.937559</td>\n",
       "      <td>-0.926534</td>\n",
       "      <td>1.000000</td>\n",
       "      <td>-0.963604</td>\n",
       "      <td>-0.000380</td>\n",
       "    </tr>\n",
       "    <tr>\n",
       "      <th>dropoff_latitude</th>\n",
       "      <td>-0.005587</td>\n",
       "      <td>-0.911016</td>\n",
       "      <td>0.930183</td>\n",
       "      <td>-0.963604</td>\n",
       "      <td>1.000000</td>\n",
       "      <td>-0.002173</td>\n",
       "    </tr>\n",
       "    <tr>\n",
       "      <th>passenger_count</th>\n",
       "      <td>0.015804</td>\n",
       "      <td>-0.001342</td>\n",
       "      <td>-0.000920</td>\n",
       "      <td>-0.000380</td>\n",
       "      <td>-0.002173</td>\n",
       "      <td>1.000000</td>\n",
       "    </tr>\n",
       "  </tbody>\n",
       "</table>\n",
       "</div>"
      ],
      "text/plain": [
       "                   fare_amount  pickup_longitude  pickup_latitude  \\\n",
       "fare_amount           1.000000          0.008975        -0.008952   \n",
       "pickup_longitude      0.008975          1.000000        -0.946674   \n",
       "pickup_latitude      -0.008952         -0.946674         1.000000   \n",
       "dropoff_longitude     0.006322          0.937559        -0.926534   \n",
       "dropoff_latitude     -0.005587         -0.911016         0.930183   \n",
       "passenger_count       0.015804         -0.001342        -0.000920   \n",
       "\n",
       "                   dropoff_longitude  dropoff_latitude  passenger_count  \n",
       "fare_amount                 0.006322         -0.005587         0.015804  \n",
       "pickup_longitude            0.937559         -0.911016        -0.001342  \n",
       "pickup_latitude            -0.926534          0.930183        -0.000920  \n",
       "dropoff_longitude           1.000000         -0.963604        -0.000380  \n",
       "dropoff_latitude           -0.963604          1.000000        -0.002173  \n",
       "passenger_count            -0.000380         -0.002173         1.000000  "
      ]
     },
     "execution_count": 25,
     "metadata": {},
     "output_type": "execute_result"
    }
   ],
   "source": [
    "df.corr()"
   ]
  },
  {
   "cell_type": "code",
   "execution_count": 28,
   "metadata": {},
   "outputs": [
    {
     "data": {
      "text/plain": [
       "<matplotlib.collections.PathCollection at 0x11b1994a8>"
      ]
     },
     "execution_count": 28,
     "metadata": {},
     "output_type": "execute_result"
    },
    {
     "data": {
      "image/png": "[encoded data removed]",
      "text/plain": [
       "<Figure size 432x288 with 1 Axes>"
      ]
     },
     "metadata": {},
     "output_type": "display_data"
    }
   ],
   "source": [
    "import matplotlib.pyplot as plt\n",
    "% matplotlib inline\n",
    "\n",
    "plt.scatter(df['passenger_count'], df['fare_amount'])"
   ]
  },
  {
   "cell_type": "code",
   "execution_count": 30,
   "metadata": {},
   "outputs": [
    {
     "data": {
      "text/plain": [
       "[<matplotlib.lines.Line2D at 0x11a2a1390>]"
      ]
     },
     "execution_count": 30,
     "metadata": {},
     "output_type": "execute_result"
    },
    {
     "data": {
      "image/png": "[encoded data removed]",
      "text/plain": [
       "<Figure size 432x288 with 1 Axes>"
      ]
     },
     "metadata": {},
     "output_type": "display_data"
    }
   ],
   "source": [
    "x = [1,2]\n",
    "y = [3,4]\n",
    "plt.plot(x, y)"
   ]
  }
 ],
 "metadata": {
  "kernelspec": {
   "display_name": "Python 3",
   "language": "python",
   "name": "python3"
  },
  "language_info": {
   "codemirror_mode": {
    "name": "ipython",
    "version": 3
   },
   "file_extension": ".py",
   "mimetype": "text/x-python",
   "name": "python",
   "nbconvert_exporter": "python",
   "pygments_lexer": "ipython3",
   "version": "3.6.5"
  }
 },
 "nbformat": 4,
 "nbformat_minor": 2
}
